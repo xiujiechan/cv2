{
 "cells": [
  {
   "cell_type": "markdown",
   "metadata": {},
   "source": [
    "# 索引\n",
    "[資料初始化](#資料初始化)\n",
    "\n",
    "[讀取特徵影像](#讀取特徵影像)\n",
    "\n",
    "[分析特徵影像的特徵值](#分析特徵影像的特徵值)\n",
    "\n",
    "[計算待識別影像的特徵值](#計算待識別影像的特徵值)\n",
    "\n",
    "[識別](#識別)"
   ]
  },
  {
   "cell_type": "code",
   "execution_count": 1,
   "metadata": {},
   "outputs": [],
   "source": [
    "import cv2\n",
    "import numpy as np"
   ]
  },
  {
   "cell_type": "markdown",
   "metadata": {},
   "source": [
    "資料初始化"
   ]
  },
  {
   "cell_type": "code",
   "execution_count": 2,
   "metadata": {},
   "outputs": [
    {
     "name": "stdout",
     "output_type": "stream",
     "text": [
      "(100, 240, 240)\n"
     ]
    }
   ],
   "source": [
    "#讀取樣本(特徵)圖像的值\n",
    "s='image\\\\' #圖像所在路徑\n",
    "num=100 #共有樣本數量\n",
    "row=240 #每個數字圖像的行數\n",
    "col=240 #每個數字圖像的列數\n",
    "a=np.zeros((num,row,col)) #用來存儲所有樣本的數值\n",
    "print(a.shape)"
   ]
  },
  {
   "cell_type": "markdown",
   "metadata": {},
   "source": [
    "讀取特徵影像"
   ]
  },
  {
   "cell_type": "code",
   "execution_count": 3,
   "metadata": {},
   "outputs": [],
   "source": [
    "n=0 #用來存儲當前圖像的編號\n",
    "for i in range(0,10):\n",
    "    for j in range(1,11):\n",
    "        a[n,:,:]=cv2.imread(s+str(i)+'\\\\'+str(i)+'-'+str(j)+'.bmp',0)\n",
    "        n=n+1"
   ]
  },
  {
   "cell_type": "code",
   "execution_count": 4,
   "metadata": {},
   "outputs": [
    {
     "name": "stdout",
     "output_type": "stream",
     "text": [
      "[[255. 255. 255. ... 255. 255. 255.]\n",
      " [255. 255. 255. ... 255. 255. 255.]\n",
      " [255. 255. 255. ... 255. 255. 255.]\n",
      " ...\n",
      " [255. 255. 255. ... 255. 255. 255.]\n",
      " [255. 255. 255. ... 255. 255. 255.]\n",
      " [255. 255. 255. ... 255. 255. 255.]]\n"
     ]
    }
   ],
   "source": [
    "print(a[0,::])"
   ]
  },
  {
   "cell_type": "markdown",
   "metadata": {},
   "source": [
    "分析特徵影像的特徵值"
   ]
  },
  {
   "cell_type": "code",
   "execution_count": 5,
   "metadata": {},
   "outputs": [],
   "source": [
    "#提取樣本圖像的特徵\n",
    "feature=np.zeros((num,round(row/5),round(col/5))) #用來存儲所有樣本的特徵值\n",
    "#print(feature.shape) #看看feature的shape長甚麼樣子\n",
    "#print(row)          #看看row的值,有多少個特徵(100)個\n",
    "\n",
    "for ni in range(0,num):\n",
    "    for nr in range(0,row):\n",
    "        for nc in range(0,col):\n",
    "            if a [ni,nr,nc]==255:\n",
    "                feature[ni,int(nr/5),int(nc/5)]+=1\n",
    "f=feature   #簡化變量名稱"
   ]
  },
  {
   "cell_type": "markdown",
   "metadata": {},
   "source": [
    "計算待識別影像的特徵值"
   ]
  },
  {
   "cell_type": "code",
   "execution_count": 6,
   "metadata": {},
   "outputs": [],
   "source": [
    "#計算當前待識別圖像的特徵圖\n",
    "o=cv2.imread('image\\\\test\\\\5.bmp',0) #讀取待測圖像\n",
    "#讀取圖像值\n",
    "of=np.zeros((round(row/5),round(col/5))) #用來存儲測試圖像的特徵值\n",
    "for nr in range(0,row):\n",
    "    for nc in range(0,col):\n",
    "        if o[nr,nc]==255:\n",
    "            of[int(nr/5),int(nc/5)]+=1\n",
    "            "
   ]
  },
  {
   "cell_type": "markdown",
   "metadata": {},
   "source": [
    "識別"
   ]
  },
  {
   "cell_type": "code",
   "execution_count": 7,
   "metadata": {},
   "outputs": [
    {
     "name": "stdout",
     "output_type": "stream",
     "text": [
      "[  96066.   85142.  110285.  110153.  102270.  103889.  103948.  100054.\n",
      "  112656.   99778.   86995.   84424.   84677.   83273.   82476.   82803.\n",
      "   83868.   82677.   84338.   84269.   95855. 1333586.   91477.  102119.\n",
      "  107335.  105874.  108784.  111414.  114757.  112354.   79948.   97797.\n",
      "  107031.   78375.   85575.  107129.  111396.  105933.  116503.  112122.\n",
      "  108857.  106114.  102126.  103560.  101034.  105016.  111375.  110900.\n",
      "  110628.  108814.   87223.   87918.   95230.   88730.   79073.   82151.\n",
      "   94188.   86252.   77185.   91800.   88331.  108362.  121314.   89836.\n",
      "  143935.  108946.  109578.   97324.   99419.  120538.  102910.  102939.\n",
      "  100465.  102443.   97068.   88816.  106088.  100535.  101622.  104550.\n",
      "  117031.  122261.  118118.  127061.  125294.  111937.  128592.  108484.\n",
      "  109604.  122142.  112495.  112658.  114000.  106094.  101869.  114693.\n",
      "  127703.  109004.  105606.  117819.]\n",
      "[96066.0, 85142.0, 110285.0, 110153.0, 102270.0, 103889.0, 103948.0, 100054.0, 112656.0, 99778.0, 86995.0, 84424.0, 84677.0, 83273.0, 82476.0, 82803.0, 83868.0, 82677.0, 84338.0, 84269.0, 95855.0, 1333586.0, 91477.0, 102119.0, 107335.0, 105874.0, 108784.0, 111414.0, 114757.0, 112354.0, 79948.0, 97797.0, 107031.0, 78375.0, 85575.0, 107129.0, 111396.0, 105933.0, 116503.0, 112122.0, 108857.0, 106114.0, 102126.0, 103560.0, 101034.0, 105016.0, 111375.0, 110900.0, 110628.0, 108814.0, 87223.0, 87918.0, 95230.0, 88730.0, 79073.0, 82151.0, 94188.0, 86252.0, 77185.0, 91800.0, 88331.0, 108362.0, 121314.0, 89836.0, 143935.0, 108946.0, 109578.0, 97324.0, 99419.0, 120538.0, 102910.0, 102939.0, 100465.0, 102443.0, 97068.0, 88816.0, 106088.0, 100535.0, 101622.0, 104550.0, 117031.0, 122261.0, 118118.0, 127061.0, 125294.0, 111937.0, 128592.0, 108484.0, 109604.0, 122142.0, 112495.0, 112658.0, 114000.0, 106094.0, 101869.0, 114693.0, 127703.0, 109004.0, 105606.0, 117819.0]\n",
      "1333586.0\n"
     ]
    }
   ],
   "source": [
    "##開始計算,數字識別,計算最近的times個數字是誰,判斷結果\n",
    "d=np.zeros(100)\n",
    "for i in range(0,100):\n",
    "    d[i]=np.sum((of-f[i,:,:])*(of-f[i,:,:]))\n",
    "print(d)\n",
    "d=d.tolist()\n",
    "print(d)\n",
    "temp=[]\n",
    "Inf=max(d)\n",
    "print(Inf)\n",
    "k=7\n",
    "for i in range(k):\n",
    "    temp.append(d.index(min(d)))\n",
    "    d[d.index(min(d))]=Inf  #將最大值指派到陣列中\n",
    "print(temp) #看看都被識別為那些特徵值"
   ]
  },
  {
   "cell_type": "code",
   "execution_count": 9,
   "metadata": {},
   "outputs": [
    {
     "name": "stdout",
     "output_type": "stream",
     "text": [
      "當前的數字可能為:0\n"
     ]
    }
   ],
   "source": [
    "temp=[i/10 for i in temp]\n",
    "\n",
    "#數組r用來存儲結果,r[0]表示k近鄰中0的個數,r[n]k鄰近中n的個數\n",
    "r=np.zeros(10)\n",
    "for i in temp:\n",
    "    r[int(i)]+=1\n",
    "#print(r)\n",
    "print('當前的數字可能為:'+str(np.argmax(r)))"
   ]
  }
 ],
 "metadata": {
  "kernelspec": {
   "display_name": "base",
   "language": "python",
   "name": "python3"
  },
  "language_info": {
   "codemirror_mode": {
    "name": "ipython",
    "version": 3
   },
   "file_extension": ".py",
   "mimetype": "text/x-python",
   "name": "python",
   "nbconvert_exporter": "python",
   "pygments_lexer": "ipython3",
   "version": "3.11.7"
  }
 },
 "nbformat": 4,
 "nbformat_minor": 2
}
