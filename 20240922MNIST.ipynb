{
 "cells": [
  {
   "cell_type": "markdown",
   "metadata": {},
   "source": [
    "MNIST_explor\n",
    "\n",
    "索引\n",
    "取得MNIST數據集\n",
    "\n",
    "展示2X5個子圖圖形\n",
    "\n",
    "將下載資料集合成整合一個資料集"
   ]
  },
  {
   "cell_type": "markdown",
   "metadata": {},
   "source": [
    "## 取得MNIST數據集\n",
    "網址：http://yann.lecun.com/exdb/mnist/index.html\n",
    "\n",
    "1. 訓練數據集影像     ‘train_img’:‘train-images-idx3-ubyte.gz’\n",
    "                    (壓縮檔大小9.9MB，解壓縮之後47MB，60000張樣本）\n",
    "2. 訓練數據集標籤     ‘train_label’:‘train-labels-idx1-ubyte.gz’\n",
    "                    (壓縮檔大小29KB，解壓縮之後60MB，60000張樣本標籤）\n",
    "3. 測試數據集影像     'test_img':'t10k-images-idx3-ubyte.gz'\n",
    "                    (壓縮檔大小1.6MB，解壓縮之後7.8MB，10000張樣本）\n",
    "4. 測試數據集標籤     'test_label':'t10k-labels-idx1-ubyte.gz'}\n",
    "                    (壓縮檔大小5KB，解壓縮之後10KB，10000張樣本標籤）"
   ]
  },
  {
   "cell_type": "code",
   "execution_count": 1,
   "metadata": {},
   "outputs": [],
   "source": [
    "import os\n",
    "import struct\n",
    "import numpy as np"
   ]
  },
  {
   "cell_type": "code",
   "execution_count": 2,
   "metadata": {},
   "outputs": [],
   "source": [
    "def load_mnist(path, kind='train'):\n",
    "    \"\"\"Load MNIST data from 'path'\"\"\"\n",
    "    labels_path=os.path.join(path,\n",
    "                             '%s-labels-idx1-ubyte' % kind)\n",
    "    images_path=os.path.join(path,\n",
    "                             '%s-images-idx3-ubyte' % kind)\n",
    "    with open(labels_path,'rb') as lbpath:\n",
    "        magic, n = struct.unpack('>II',\n",
    "                                lbpath.read(8))\n",
    "        labels=np.fromfile(lbpath,\n",
    "                           dtype=np.uint8)\n",
    "    with open(labels_path,'rb') as imgpath:\n",
    "        magic , num, row, cols = struct.unpack(\">IIII\",\n",
    "                                               imgpath.read(16)) \n",
    "        images = np.fromfile(imgpath,\n",
    "                             dtype=np.uint8).reshape(len(labels), 784)\n",
    "        images = ((images / 255.) - .5) * 2\n",
    "    return images, labels"
   ]
  },
  {
   "cell_type": "code",
   "execution_count": 5,
   "metadata": {},
   "outputs": [
    {
     "name": "stdout",
     "output_type": "stream",
     "text": [
      " �Ϻа� D �����ϺЬO �s�W�Ϻа�\n",
      " �ϺаϧǸ�:  EAF3-6F5C\n",
      "\n",
      " d:\\��ı���ѻP�����ǲ� �����f\\20240922\\Day2 ���ؿ�\n",
      "\n",
      "2024/09/25  �U�� 01:24    <DIR>          .\n",
      "2024/09/25  �U�� 01:24    <DIR>          ..\n",
      "2024/09/25  �U�� 01:23         4,300,215 (Slide)Python�����ǲ�&�q����ı_day2.pdf\n",
      "2024/09/25  �U�� 01:24    <DIR>          .ipynb_checkpoints\n",
      "2024/09/25  �U�� 01:23             8,521 20240922MNIST.ipynb\n",
      "2024/09/25  �U�� 01:23             9,783 20240922_cv2.ipynb\n",
      "2024/09/25  �U�� 01:24    <DIR>          image\n",
      "2024/09/25  �U�� 01:23             5,117 KNN_scikit learn.ipynb\n",
      "2024/09/25  �U�� 01:23            81,761 MNIST_explore.ipynb\n",
      "2024/09/25  �U�� 01:24        22,088,791 mnist_scaled.npz\n",
      "2024/09/25  �U�� 01:23             6,611 python_cv2.ipynb\n",
      "2024/09/25  �U�� 01:23             9,724 python_cv2_2.ipynb\n",
      "2024/09/25  �U�� 01:24             5,777 python_cv2_knn.ipynb\n",
      "2024/09/25  �U�� 01:24         1,648,877 t10k-images-idx3-ubyte.gz\n",
      "2024/09/25  �U�� 01:23             4,542 t10k-labels-idx1-ubyte.gz\n",
      "2024/09/25  �U�� 01:24         9,912,422 train-images-idx3-ubyte.gz\n",
      "2024/09/25  �U�� 01:23            28,881 train-labels-idx1-ubyte.gz\n",
      "              13 ���ɮ�      38,111,022 �줸��\n",
      "               4 �ӥؿ�  981,581,910,016 �줸�եi��\n"
     ]
    }
   ],
   "source": [
    "!dir"
   ]
  },
  {
   "cell_type": "code",
   "execution_count": 6,
   "metadata": {},
   "outputs": [],
   "source": [
    "import sys\n",
    "import gzip\n",
    "import shutil\n"
   ]
  },
  {
   "cell_type": "code",
   "execution_count": 7,
   "metadata": {},
   "outputs": [],
   "source": [
    "if (sys.version_info > (3,0)):\n",
    "    writemode = 'wb'\n",
    "else:\n",
    "    writemode = 'w'\n",
    "\n",
    "zipped_mnist = [f for f in os.listdir('./') if f.endswith('ubyte.gz')]\n",
    "for z in zipped_mnist:\n",
    "    with gzip.GzipFile(z, mode='rb') as decompressed, open(z[:-3], writemode) as outfile:\n",
    "        outfile.write(decompressed.read())"
   ]
  },
  {
   "cell_type": "markdown",
   "metadata": {},
   "source": [
    "2X5個子圖圖形"
   ]
  },
  {
   "cell_type": "code",
   "execution_count": 15,
   "metadata": {},
   "outputs": [
    {
     "ename": "ValueError",
     "evalue": "cannot reshape array of size 59992 into shape (60000,784)",
     "output_type": "error",
     "traceback": [
      "\u001b[1;31m---------------------------------------------------------------------------\u001b[0m",
      "\u001b[1;31mValueError\u001b[0m                                Traceback (most recent call last)",
      "Cell \u001b[1;32mIn[15], line 1\u001b[0m\n\u001b[1;32m----> 1\u001b[0m X_train, y_train \u001b[38;5;241m=\u001b[39m load_mnist(\u001b[38;5;124m'\u001b[39m\u001b[38;5;124m'\u001b[39m, kind\u001b[38;5;241m=\u001b[39m\u001b[38;5;124m'\u001b[39m\u001b[38;5;124mtrain\u001b[39m\u001b[38;5;124m'\u001b[39m)\n\u001b[0;32m      2\u001b[0m \u001b[38;5;28mprint\u001b[39m(\u001b[38;5;124m'\u001b[39m\u001b[38;5;124mRows: \u001b[39m\u001b[38;5;132;01m%d\u001b[39;00m\u001b[38;5;124m, columns: \u001b[39m\u001b[38;5;132;01m%d\u001b[39;00m\u001b[38;5;124m'\u001b[39m \u001b[38;5;241m%\u001b[39m (X_train\u001b[38;5;241m.\u001b[39mshape[\u001b[38;5;241m0\u001b[39m],X_train\u001b[38;5;241m.\u001b[39mshape[\u001b[38;5;241m1\u001b[39m]))\n",
      "Cell \u001b[1;32mIn[2], line 16\u001b[0m, in \u001b[0;36mload_mnist\u001b[1;34m(path, kind)\u001b[0m\n\u001b[0;32m     12\u001b[0m \u001b[38;5;28;01mwith\u001b[39;00m \u001b[38;5;28mopen\u001b[39m(labels_path,\u001b[38;5;124m'\u001b[39m\u001b[38;5;124mrb\u001b[39m\u001b[38;5;124m'\u001b[39m) \u001b[38;5;28;01mas\u001b[39;00m imgpath:\n\u001b[0;32m     13\u001b[0m     magic , num, row, cols \u001b[38;5;241m=\u001b[39m struct\u001b[38;5;241m.\u001b[39munpack(\u001b[38;5;124m\"\u001b[39m\u001b[38;5;124m>IIII\u001b[39m\u001b[38;5;124m\"\u001b[39m,\n\u001b[0;32m     14\u001b[0m                                            imgpath\u001b[38;5;241m.\u001b[39mread(\u001b[38;5;241m16\u001b[39m)) \n\u001b[0;32m     15\u001b[0m     images \u001b[38;5;241m=\u001b[39m np\u001b[38;5;241m.\u001b[39mfromfile(imgpath,\n\u001b[1;32m---> 16\u001b[0m                          dtype\u001b[38;5;241m=\u001b[39mnp\u001b[38;5;241m.\u001b[39muint8)\u001b[38;5;241m.\u001b[39mreshape(\u001b[38;5;28mlen\u001b[39m(labels), \u001b[38;5;241m784\u001b[39m)\n\u001b[0;32m     17\u001b[0m     images \u001b[38;5;241m=\u001b[39m ((images \u001b[38;5;241m/\u001b[39m \u001b[38;5;241m255.\u001b[39m) \u001b[38;5;241m-\u001b[39m \u001b[38;5;241m.5\u001b[39m) \u001b[38;5;241m*\u001b[39m \u001b[38;5;241m2\u001b[39m\n\u001b[0;32m     18\u001b[0m \u001b[38;5;28;01mreturn\u001b[39;00m images, labels\n",
      "\u001b[1;31mValueError\u001b[0m: cannot reshape array of size 59992 into shape (60000,784)"
     ]
    }
   ],
   "source": [
    "X_train, y_train = load_mnist('', kind='train')\n",
    "print('Rows: %d, columns: %d' % (X_train.shape[0],X_train.shape[1]))  \n",
    "#print(f'Rows:{X_train.shape[0]},columns:{X_train.shape[1]}') #python版本較舊"
   ]
  }
 ],
 "metadata": {
  "kernelspec": {
   "display_name": "base",
   "language": "python",
   "name": "python3"
  },
  "language_info": {
   "codemirror_mode": {
    "name": "ipython",
    "version": 3
   },
   "file_extension": ".py",
   "mimetype": "text/x-python",
   "name": "python",
   "nbconvert_exporter": "python",
   "pygments_lexer": "ipython3",
   "version": "3.11.7"
  }
 },
 "nbformat": 4,
 "nbformat_minor": 2
}
